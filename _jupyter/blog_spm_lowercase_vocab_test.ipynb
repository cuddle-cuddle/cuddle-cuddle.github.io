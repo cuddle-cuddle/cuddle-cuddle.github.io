{
 "cells": [
  {
   "cell_type": "code",
   "execution_count": 12,
   "metadata": {},
   "outputs": [
    {
     "name": "stdout",
     "output_type": "stream",
     "text": [
      "The autoreload extension is already loaded. To reload it, use:\n",
      "  %reload_ext autoreload\n"
     ]
    }
   ],
   "source": [
    "%load_ext autoreload"
   ]
  },
  {
   "cell_type": "code",
   "execution_count": 13,
   "metadata": {},
   "outputs": [],
   "source": [
    "import os\n",
    "import time\n",
    "from fastai.text import *"
   ]
  },
  {
   "cell_type": "code",
   "execution_count": 14,
   "metadata": {},
   "outputs": [],
   "source": [
    "import sys\n",
    "sys.path.append('./imdb_scripts/')\n"
   ]
  },
  {
   "cell_type": "code",
   "execution_count": 15,
   "metadata": {},
   "outputs": [],
   "source": [
    "from create_toks import *\n",
    "import sentencepiece as spm\n",
    "from fastai.text import *\n",
    "import math"
   ]
  },
  {
   "cell_type": "code",
   "execution_count": 16,
   "metadata": {},
   "outputs": [
    {
     "data": {
      "text/plain": [
       "True"
      ]
     },
     "execution_count": 16,
     "metadata": {},
     "output_type": "execute_result"
    }
   ],
   "source": [
    "sp64_lower = spm.SentencePieceProcessor()\n",
    "sp64_lower.Load('data/imdb_lm_spm/model_64k_lowercase.model')"
   ]
  },
  {
   "cell_type": "code",
   "execution_count": 17,
   "metadata": {},
   "outputs": [
    {
     "data": {
      "text/plain": [
       "True"
      ]
     },
     "execution_count": 17,
     "metadata": {},
     "output_type": "execute_result"
    }
   ],
   "source": [
    "sp32_lower = spm.SentencePieceProcessor()\n",
    "sp32_lower.Load('data/imdb_lm_spm/model_32k_lowercase.model')"
   ]
  },
  {
   "cell_type": "code",
   "execution_count": 18,
   "metadata": {},
   "outputs": [
    {
     "data": {
      "text/plain": [
       "True"
      ]
     },
     "execution_count": 18,
     "metadata": {},
     "output_type": "execute_result"
    }
   ],
   "source": [
    "sp16_lower = spm.SentencePieceProcessor()\n",
    "sp16_lower.Load('data/imdb_lm_spm/model_16k_lowercase.model')"
   ]
  },
  {
   "cell_type": "code",
   "execution_count": 19,
   "metadata": {},
   "outputs": [
    {
     "data": {
      "text/plain": [
       "True"
      ]
     },
     "execution_count": 19,
     "metadata": {},
     "output_type": "execute_result"
    }
   ],
   "source": [
    "sp8_lower = spm.SentencePieceProcessor()\n",
    "sp8_lower.Load('data/imdb_lm_spm/model_8k_lowercase.model')"
   ]
  },
  {
   "cell_type": "code",
   "execution_count": 20,
   "metadata": {},
   "outputs": [],
   "source": [
    "import pandas as pd"
   ]
  },
  {
   "cell_type": "markdown",
   "metadata": {},
   "source": [
    "# Vocabuary Statistics"
   ]
  },
  {
   "cell_type": "code",
   "execution_count": 58,
   "metadata": {},
   "outputs": [],
   "source": [
    "def getVocabCount(vsize):\n",
    "    vocab_f_str = 'data/imdb_lm_spm/model_'+ str(vsize) +'k_lowercase.vocab'\n",
    "    vocabnum = []\n",
    "    with open(vocab_f_str, 'r') as f: \n",
    "        vocabnum = f.readlines()\n",
    "    print(f'Last 25 words included by {vsize}k vocab model:')\n",
    "    print(vocabnum[-10:])\n",
    "    print('-----------------------')\n",
    "    return np.array([float(vn.split()[-1]) for vn in vocabnum])"
   ]
  },
  {
   "cell_type": "code",
   "execution_count": 59,
   "metadata": {},
   "outputs": [
    {
     "name": "stdout",
     "output_type": "stream",
     "text": [
      "Last 25 words included by 8k vocab model:\n",
      "['▁administration\\t-12.1174\\n', '▁applause\\t-12.1174\\n', '▁humiliate\\t-12.1174\\n', '▁lubitsch\\t-12.1174\\n', '▁pfeiffer\\t-12.1174\\n', '▁stephanie\\t-12.1174\\n', '▁swift\\t-12.1174\\n', 'worst\\t-12.1229\\n', '▁complicat\\t-12.1246\\n', '▁miyazaki\\t-12.1282\\n']\n",
      "-----------------------\n",
      "Last 25 words included by 16k vocab model:\n",
      "['▁infuriate\\t-13.1477\\n', '▁kessler\\t-13.1477\\n', '▁uninterested\\t-13.1477\\n', '▁veidt\\t-13.1477\\n', '▁zelah\\t-13.1477\\n', '▁albino\\t-13.1477\\n', '▁goliath\\t-13.1477\\n', '▁squire\\t-13.1477\\n', '▁(1997)\\t-13.1477\\n', '▁edmond\\t-13.1477\\n']\n",
      "-----------------------\n",
      "Last 25 words included by 32k vocab model:\n",
      "['▁antonietta\\t-14.423\\n', '▁appetizing\\t-14.423\\n', '▁aronofsky\\t-14.423\\n', '▁atlantean\\t-14.423\\n', '▁barjatya\\t-14.423\\n', '▁bierko\\t-14.423\\n', '▁borchardt\\t-14.423\\n', '▁bostwick\\t-14.423\\n', '▁brettschneider\\t-14.423\\n', '▁broinowski\\t-14.423\\n']\n",
      "-----------------------\n",
      "Last 25 words included by 64k vocab model:\n",
      "['▁etahn\\t-16.1253\\n', '▁ethnocentrism\\t-16.1253\\n', '▁eubanks\\t-16.1253\\n', '▁evanescence\\t-16.1253\\n', '▁evigan\\t-16.1253\\n', '▁exagerated\\t-16.1253\\n', '▁excrutiating\\t-16.1253\\n', '▁expatiate\\t-16.1253\\n', '▁expiation\\t-16.1253\\n', '▁expresion\\t-16.1253\\n']\n",
      "-----------------------\n"
     ]
    }
   ],
   "source": [
    "v_counts = []\n",
    "vocabs = [8, 16, 32, 64]\n",
    "min_prob = 0\n",
    "for i in vocabs: \n",
    "    v_count = getVocabCount(i)\n",
    "    v_counts = v_counts + [v_count]\n",
    "    min_prob = min(min_prob, np.min(v_count))\n",
    "    "
   ]
  },
  {
   "cell_type": "code",
   "execution_count": 53,
   "metadata": {},
   "outputs": [],
   "source": [
    "bins = np.linspace(min_prob, 0, 100)"
   ]
  },
  {
   "cell_type": "code",
   "execution_count": 60,
   "metadata": {},
   "outputs": [
    {
     "data": {
      "image/png": "[encoded data removed]",
      "text/plain": [
       "<Figure size 432x288 with 1 Axes>"
      ]
     },
     "metadata": {},
     "output_type": "display_data"
    }
   ],
   "source": [
    "for c, size in zip(v_counts, vocabs):\n",
    "    plt.hist(c, bins, alpha=0.4, label=str(size) + 'k')\n",
    "plt.legend(loc='upper right')\n",
    "plt.show()"
   ]
  },
  {
   "cell_type": "markdown",
   "metadata": {},
   "source": [
    "# tokenizing power"
   ]
  },
  {
   "cell_type": "code",
   "execution_count": 67,
   "metadata": {},
   "outputs": [],
   "source": [
    "milton_lower = \"OF Mans First Disobedience, and the Fruit \\n\" + \\\n",
    "\"Of that Forbidden Tree, whose mortal tast  \\n\" +  \\\n",
    "    \"Brought Death into the World, and all our woe,  \\n\" +  \\\n",
    "    \"With loss of Eden, till one greater Man  \\n\" +  \\\n",
    "    \"Restore us, and regain the blissful Seat, \\n\" +  \\\n",
    "    \"Sing Heav'nly Muse, that on the secret top  \\n\" +  \\\n",
    "    \"Of Oreb, or of Sinai, didst inspire  \\n\" +  \\\n",
    "    \"That Shepherd, who first taught the chosen Seed,  \\n\" +  \\\n",
    "    \"In the Beginning how the Heav'ns and Earth  \\n\" +  \\\n",
    "    \"Rose out of Chaos: or if Sion Hill  \\n\" +  \\\n",
    "    \"Delight thee more, and Siloa's brook that flow'd  \\n\" +  \\\n",
    "    \"Fast by the Oracle of God; I thence  \\n\" +  \\\n",
    "    \"Invoke thy aid to my adventrous Song,  \\n\" +  \\\n",
    "    \"That with no middle flight intends to soar  \\n\" +  \\\n",
    "    \"Above th' Aonian Mount, while it pursues  \\n\" +  \\\n",
    "    \"Things unattempted yet in Prose or Rhime. \""
   ]
  },
  {
   "cell_type": "code",
   "execution_count": 68,
   "metadata": {},
   "outputs": [],
   "source": [
    "milton_lower = milton_lower.lower()"
   ]
  },
  {
   "cell_type": "code",
   "execution_count": 99,
   "metadata": {},
   "outputs": [],
   "source": [
    "def printEncodedSentence(tokenizer, sentence):    \n",
    "    print(''.join([' ' + s[1:] if (s[0]=='▁') else '-' + s for s in tokenizer.EncodeAsPieces(milton_lower)]))\n"
   ]
  },
  {
   "cell_type": "code",
   "execution_count": 101,
   "metadata": {},
   "outputs": [],
   "source": [
    "vocabs = [8, 16, 32, 64]\n",
    "sps = [sp8_lower, sp16_lower, sp32_lower, sp64_lower]"
   ]
  },
  {
   "cell_type": "code",
   "execution_count": 103,
   "metadata": {},
   "outputs": [
    {
     "name": "stdout",
     "output_type": "stream",
     "text": [
      "tokenizer 8k vocab\n",
      " of man-s first dis-ob-ed-i-ence-, and the fruit -\n",
      "-of that for-bi-d-den tree-, who-se mortal ta-s-t -\n",
      "-b-rough-t death into the world-, and all our wo-e-, -\n",
      "-with loss of e-den-, till one greater man -\n",
      "-re-store us-, and regain the bliss-ful seat-, -\n",
      "-s-ing he-av-'-n-ly mu-se-, that on the secret top -\n",
      "-of or-e-b-, or of sin-a-i-, did-s-t inspire -\n",
      "-that shepherd-, who first taught the chosen see-d-, -\n",
      "-in the beginning how the he-av-'-ns and earth -\n",
      "-ro-se out of chaos-: or if -s-ion hill -\n",
      "-de-light the-e more-, and si-lo-a-'-s -brook that flow-'-d -\n",
      "-fa-s-t by the or-a-cle of god-; i the-nce -\n",
      "-in-vo-ke th-y aid to my a-d-ven-t-rous song-, -\n",
      "-that with no middle flight intend-s to so-ar -\n",
      "-a-bo-ve th-' a-on-ian mount-, while it pursue-s -\n",
      "-th-ing-s un-at-t-empt-ed yet in pro-se or r-hi-me-.\n",
      "------------------------------------\n",
      "tokenizer 16k vocab\n",
      " of man-s first dis-ob-ed-i-ence-, and the fruit -\n",
      "-of that forbidden tree-, who-se mortal ta-s-t -\n",
      "-b-rough-t death into the world-, and all our woe-, -\n",
      "-with loss of ed-en-, till one greater man -\n",
      "-re-store us-, and regain the blissful seat-, -\n",
      "-s-ing he-av-'-n-ly muse-, that on the secret top -\n",
      "-of or-e-b-, or of sin-a-i-, did-s-t inspire -\n",
      "-that shepherd-, who first taught the chosen seed-, -\n",
      "-in the beginning how the he-av-'-ns and earth -\n",
      "-rose out of chaos-: or if -s-ion hill -\n",
      "-de-light the-e more-, and sil-o-a-'-s -brook that flow-'-d -\n",
      "-fast by the or-a-cle of god-; i the-nce -\n",
      "-in-vo-ke -thy aid to my advent-rous song-, -\n",
      "-that with no middle flight intend-s to so-ar -\n",
      "-a-bo-ve th-' a-on-ian mount-, while it pursue-s -\n",
      "-thing-s un-at-t-empt-ed yet in pro-se or r-hi-me-.\n",
      "------------------------------------\n",
      "tokenizer 32k vocab\n",
      " of man-s first dis-ob-ed-i-ence-, and the fruit -\n",
      "-of that forbidden tree-, who-se mortal ta-s-t -\n",
      "-b-rough-t death into the world-, and all our woe-, -\n",
      "-with loss of eden-, till one greater man -\n",
      "-re-store us-, and regain the blissful seat-, -\n",
      "-s-ing he-av-'-n-ly muse-, that on the secret top -\n",
      "-of or-eb-, or of sin-a-i-, did-s-t inspire -\n",
      "-that shepherd-, who first taught the chosen seed-, -\n",
      "-in the beginning how the he-av-'-ns and earth -\n",
      "-rose out of chaos-: or if -s-ion hill -\n",
      "-de-light the-e more-, and sil-o-a-'-s brook that flow-'-d -\n",
      "-fast by the oracle of god-; i the-nce -\n",
      "-in-vo-ke -thy aid to my advent-rous song-, -\n",
      "-that with no middle flight intends to soar -\n",
      "-above th-' a-on-ian mount-, while it pursues -\n",
      "-things un-attempt-ed yet in prose or r-him-e-.\n",
      "------------------------------------\n",
      "tokenizer 64k vocab\n",
      " of man-s first disobedience-, and the fruit -\n",
      "-of that forbidden tree-, who-se mortal tas-t -\n",
      "-brought death into the world-, and all our woe-, -\n",
      "-with loss of eden-, till one greater man -\n",
      "-re-store us-, and regain the blissful seat-, -\n",
      "-s-ing he-av-'-n-ly muse-, that on the secret top -\n",
      "-of or-eb-, or of sina-i-, did-s-t inspire -\n",
      "-that shepherd-, who first taught the chosen seed-, -\n",
      "-in the beginning how the he-av-'-ns and earth -\n",
      "-rose out of chaos-: or if -sion hill -\n",
      "-de-light the-e more-, and silo-a-'-s brook that flow-'-d -\n",
      "-fast by the oracle of god-; i the-nce -\n",
      "-invo-ke -thy aid to my advent-rous song-, -\n",
      "-that with no middle flight intends to soar -\n",
      "-above th-' a-on-ian mount-, while it pursues -\n",
      "-things un-attempted yet in prose or rhi-me-.\n",
      "------------------------------------\n"
     ]
    }
   ],
   "source": [
    "for v, sp in zip(vocabs, sps):\n",
    "    print(f'tokenizer {v}k vocab')\n",
    "    printEncodedSentence(sp, milton_lower)\n",
    "    print('------------------------------------')"
   ]
  },
  {
   "cell_type": "code",
   "execution_count": null,
   "metadata": {},
   "outputs": [],
   "source": []
  }
 ],
 "metadata": {
  "kernelspec": {
   "display_name": "Python 3",
   "language": "python",
   "name": "python3"
  },
  "language_info": {
   "codemirror_mode": {
    "name": "ipython",
    "version": 3
   },
   "file_extension": ".py",
   "mimetype": "text/x-python",
   "name": "python",
   "nbconvert_exporter": "python",
   "pygments_lexer": "ipython3",
   "version": "3.6.5"
  }
 },
 "nbformat": 4,
 "nbformat_minor": 2
}
