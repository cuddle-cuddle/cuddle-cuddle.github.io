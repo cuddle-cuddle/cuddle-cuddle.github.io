{
 "cells": [
  {
   "cell_type": "markdown",
   "metadata": {},
   "source": [
    "## Still not NLP, but some modeling"
   ]
  },
  {
   "cell_type": "markdown",
   "metadata": {},
   "source": [
    "The purpose of this is to shed light on the jokes data we have retrieved. \n",
    "Trump is a popular butt end of a joke on /r/Jokes. Are there any patterns in this? Doest the election have any result on his un-popularity? \n",
    "\n",
    "And answer to many more quesitons. \n",
    "-- any other event that makes people hate trump\n",
    "-- how quickly do people gain/lose intersting in trump bashing\n",
    "-- etc. etc. "
   ]
  },
  {
   "cell_type": "markdown",
   "metadata": {},
   "source": [
    "## Data import and pre-process"
   ]
  },
  {
   "cell_type": "code",
   "execution_count": 15,
   "metadata": {},
   "outputs": [],
   "source": [
    "import pandas as pd\n",
    "df = pd.read_csv('./jokes_score_name_clean.csv')"
   ]
  },
  {
   "cell_type": "code",
   "execution_count": 16,
   "metadata": {},
   "outputs": [
    {
     "data": {
      "text/html": [
       "<div>\n",
       "<style>\n",
       "    .dataframe thead tr:only-child th {\n",
       "        text-align: right;\n",
       "    }\n",
       "\n",
       "    .dataframe thead th {\n",
       "        text-align: left;\n",
       "    }\n",
       "\n",
       "    .dataframe tbody tr th {\n",
       "        vertical-align: top;\n",
       "    }\n",
       "</style>\n",
       "<table border=\"1\" class=\"dataframe\">\n",
       "  <thead>\n",
       "    <tr style=\"text-align: right;\">\n",
       "      <th></th>\n",
       "      <th>Unnamed: 0</th>\n",
       "      <th>id</th>\n",
       "      <th>score</th>\n",
       "      <th>q</th>\n",
       "      <th>a</th>\n",
       "      <th>timestamp</th>\n",
       "      <th>name</th>\n",
       "      <th>hilary</th>\n",
       "      <th>clinton</th>\n",
       "      <th>obama</th>\n",
       "      <th>bush</th>\n",
       "      <th>trump</th>\n",
       "      <th>biden</th>\n",
       "      <th>cheney</th>\n",
       "      <th>ajit</th>\n",
       "      <th>mccain</th>\n",
       "      <th>palin</th>\n",
       "    </tr>\n",
       "  </thead>\n",
       "  <tbody>\n",
       "    <tr>\n",
       "      <th>69808</th>\n",
       "      <td>69822</td>\n",
       "      <td>5i3cbe</td>\n",
       "      <td>24</td>\n",
       "      <td>Selling a dead bird</td>\n",
       "      <td>Not going cheep</td>\n",
       "      <td>1.481633e+09</td>\n",
       "      <td>Ibrahhhhh</td>\n",
       "      <td>0.0</td>\n",
       "      <td>0.0</td>\n",
       "      <td>0.0</td>\n",
       "      <td>0.0</td>\n",
       "      <td>0.0</td>\n",
       "      <td>0.0</td>\n",
       "      <td>0.0</td>\n",
       "      <td>0.0</td>\n",
       "      <td>0.0</td>\n",
       "      <td>0.0</td>\n",
       "    </tr>\n",
       "    <tr>\n",
       "      <th>121640</th>\n",
       "      <td>121657</td>\n",
       "      <td>7e0tgh</td>\n",
       "      <td>212</td>\n",
       "      <td>I hope I never meet Frank</td>\n",
       "      <td>Every time someone tries to be Frank with me t...</td>\n",
       "      <td>1.511101e+09</td>\n",
       "      <td>Electricboogalou</td>\n",
       "      <td>0.0</td>\n",
       "      <td>0.0</td>\n",
       "      <td>0.0</td>\n",
       "      <td>0.0</td>\n",
       "      <td>0.0</td>\n",
       "      <td>0.0</td>\n",
       "      <td>0.0</td>\n",
       "      <td>0.0</td>\n",
       "      <td>0.0</td>\n",
       "      <td>0.0</td>\n",
       "    </tr>\n",
       "    <tr>\n",
       "      <th>65203</th>\n",
       "      <td>65217</td>\n",
       "      <td>5ci2mj</td>\n",
       "      <td>10</td>\n",
       "      <td>What do you call a promise you can't keep?</td>\n",
       "      <td>A campaign promise.</td>\n",
       "      <td>1.478913e+09</td>\n",
       "      <td>NicCage4life</td>\n",
       "      <td>0.0</td>\n",
       "      <td>0.0</td>\n",
       "      <td>0.0</td>\n",
       "      <td>0.0</td>\n",
       "      <td>0.0</td>\n",
       "      <td>0.0</td>\n",
       "      <td>0.0</td>\n",
       "      <td>0.0</td>\n",
       "      <td>0.0</td>\n",
       "      <td>0.0</td>\n",
       "    </tr>\n",
       "    <tr>\n",
       "      <th>15992</th>\n",
       "      <td>16001</td>\n",
       "      <td>3f1t0p</td>\n",
       "      <td>5</td>\n",
       "      <td>How many people does it take to screw in a lig...</td>\n",
       "      <td>Only two, but either they'd have to be really ...</td>\n",
       "      <td>1.438190e+09</td>\n",
       "      <td>metagloria</td>\n",
       "      <td>0.0</td>\n",
       "      <td>0.0</td>\n",
       "      <td>0.0</td>\n",
       "      <td>0.0</td>\n",
       "      <td>0.0</td>\n",
       "      <td>0.0</td>\n",
       "      <td>0.0</td>\n",
       "      <td>0.0</td>\n",
       "      <td>0.0</td>\n",
       "      <td>0.0</td>\n",
       "    </tr>\n",
       "    <tr>\n",
       "      <th>130108</th>\n",
       "      <td>130125</td>\n",
       "      <td>7sc4c1</td>\n",
       "      <td>70</td>\n",
       "      <td>How do you spot a blind guy on a nude beach?</td>\n",
       "      <td>It isn't hard.</td>\n",
       "      <td>1.516684e+09</td>\n",
       "      <td>gmb263</td>\n",
       "      <td>0.0</td>\n",
       "      <td>0.0</td>\n",
       "      <td>0.0</td>\n",
       "      <td>0.0</td>\n",
       "      <td>0.0</td>\n",
       "      <td>0.0</td>\n",
       "      <td>0.0</td>\n",
       "      <td>0.0</td>\n",
       "      <td>0.0</td>\n",
       "      <td>0.0</td>\n",
       "    </tr>\n",
       "  </tbody>\n",
       "</table>\n",
       "</div>"
      ],
      "text/plain": [
       "        Unnamed: 0      id  score  \\\n",
       "69808        69822  5i3cbe     24   \n",
       "121640      121657  7e0tgh    212   \n",
       "65203        65217  5ci2mj     10   \n",
       "15992        16001  3f1t0p      5   \n",
       "130108      130125  7sc4c1     70   \n",
       "\n",
       "                                                        q  \\\n",
       "69808                                 Selling a dead bird   \n",
       "121640                          I hope I never meet Frank   \n",
       "65203          What do you call a promise you can't keep?   \n",
       "15992   How many people does it take to screw in a lig...   \n",
       "130108       How do you spot a blind guy on a nude beach?   \n",
       "\n",
       "                                                        a     timestamp  \\\n",
       "69808                                     Not going cheep  1.481633e+09   \n",
       "121640  Every time someone tries to be Frank with me t...  1.511101e+09   \n",
       "65203                                 A campaign promise.  1.478913e+09   \n",
       "15992   Only two, but either they'd have to be really ...  1.438190e+09   \n",
       "130108                                     It isn't hard.  1.516684e+09   \n",
       "\n",
       "                    name  hilary  clinton  obama  bush  trump  biden  cheney  \\\n",
       "69808          Ibrahhhhh     0.0      0.0    0.0   0.0    0.0    0.0     0.0   \n",
       "121640  Electricboogalou     0.0      0.0    0.0   0.0    0.0    0.0     0.0   \n",
       "65203       NicCage4life     0.0      0.0    0.0   0.0    0.0    0.0     0.0   \n",
       "15992         metagloria     0.0      0.0    0.0   0.0    0.0    0.0     0.0   \n",
       "130108            gmb263     0.0      0.0    0.0   0.0    0.0    0.0     0.0   \n",
       "\n",
       "        ajit  mccain  palin  \n",
       "69808    0.0     0.0    0.0  \n",
       "121640   0.0     0.0    0.0  \n",
       "65203    0.0     0.0    0.0  \n",
       "15992    0.0     0.0    0.0  \n",
       "130108   0.0     0.0    0.0  "
      ]
     },
     "execution_count": 16,
     "metadata": {},
     "output_type": "execute_result"
    }
   ],
   "source": [
    "name_list = [\"hilary\", \"clinton\", \"obama\", \"bush\", \"trump\", \"biden\", \"cheney\", \"ajit\", \"mccain\", \"palin\"]\n",
    "df.sample(5)"
   ]
  },
  {
   "cell_type": "code",
   "execution_count": 66,
   "metadata": {},
   "outputs": [],
   "source": [
    "from datetime import datetime, date\n",
    "import time\n",
    "def toDateStr(t):\n",
    "    s = datetime.fromtimestamp(t)\n",
    "    return s.strftime('%Y-%m-%d')\n",
    "\n",
    "def timeToStamp(s):\n",
    "    return time.mktime(s.timetuple())"
   ]
  },
  {
   "cell_type": "code",
   "execution_count": 17,
   "metadata": {},
   "outputs": [],
   "source": [
    "df.sort_index='timestamp'"
   ]
  },
  {
   "cell_type": "code",
   "execution_count": 19,
   "metadata": {},
   "outputs": [],
   "source": [
    "df.sort_values(by='timestamp', inplace=True)"
   ]
  },
  {
   "cell_type": "code",
   "execution_count": 28,
   "metadata": {},
   "outputs": [],
   "source": [
    "dflen = len(df.index)\n",
    "currtotal = 0\n",
    "totals = []\n",
    "for i in range(dflen):\n",
    "    row = df.iloc[i]\n",
    "    currtotal = currtotal +row.score\n",
    "    totals.append(currtotal)"
   ]
  },
  {
   "cell_type": "markdown",
   "metadata": {},
   "source": [
    "The reason why we're adding all the scores together is that this is a dumb way to do integration. \n",
    "ideally, we want to know how many posts/score about trumps are posted per hour/day, but the data is far from smooth. \n",
    "Thus, the poopr person's integration. "
   ]
  },
  {
   "cell_type": "code",
   "execution_count": 30,
   "metadata": {},
   "outputs": [],
   "source": [
    "df['sum_score'] = totals "
   ]
  },
  {
   "cell_type": "markdown",
   "metadata": {},
   "source": [
    "we're also taking advantage of the matplotlib's plot_date function, so that the x axis is labeled nicely for us. "
   ]
  },
  {
   "cell_type": "code",
   "execution_count": 31,
   "metadata": {},
   "outputs": [],
   "source": [
    "df['date'] = df['timestamp'].apply(datetime.fromtimestamp)"
   ]
  },
  {
   "cell_type": "markdown",
   "metadata": {},
   "source": [
    "# Experiment 1: poke around, see what happens"
   ]
  },
  {
   "cell_type": "code",
   "execution_count": 65,
   "metadata": {},
   "outputs": [],
   "source": [
    "import numpy as np\n",
    "import matplotlib.pyplot as plt\n",
    "from scipy.optimize import curve_fit"
   ]
  },
  {
   "cell_type": "markdown",
   "metadata": {},
   "source": [
    "## Preliminary look: We started making way more fun of Trump after the election, Nov. 8th, 2016\n",
    "### The inflection point is pretty fucking hard to miss. "
   ]
  },
  {
   "cell_type": "code",
   "execution_count": 57,
   "metadata": {},
   "outputs": [
    {
     "data": {
      "image/png": "[encoded data removed]",
      "text/plain": [
       "<matplotlib.figure.Figure at 0x7fb755091550>"
      ]
     },
     "metadata": {},
     "output_type": "display_data"
    }
   ],
   "source": [
    "plt.clf()\n",
    "plt.xticks(fontsize = 10)\n",
    "plt.yticks(fontsize = 10)\n",
    "plt.xlabel('Time')\n",
    "plt.ylabel('Total Upvotes')\n",
    "plt.plot_date(df['date'], df['sum_score'])\n",
    "plt.show()"
   ]
  },
  {
   "cell_type": "markdown",
   "metadata": {},
   "source": [
    "## Take a closer look to the election day\n",
    "### a clear \"jump\" on Nov. 8th, 2016"
   ]
  },
  {
   "cell_type": "code",
   "execution_count": 45,
   "metadata": {},
   "outputs": [],
   "source": [
    "def getDFRange(start_date, end_date):\n",
    "    return df[(df['timestamp']>= timeToStamp(start_date)) \n",
    "                  & (df['timestamp']< timeToStamp(end_date))]"
   ]
  },
  {
   "cell_type": "code",
   "execution_count": 60,
   "metadata": {},
   "outputs": [
    {
     "data": {
      "image/png": "[encoded data removed]",
      "text/plain": [
       "<matplotlib.figure.Figure at 0x7fb75514c6d8>"
      ]
     },
     "metadata": {},
     "output_type": "display_data"
    }
   ],
   "source": [
    "start_date = date(2016, 11, 1)\n",
    "end_date = date(2016, 12,1)\n",
    "plt.clf()\n",
    "plt.xticks(fontsize = 10)\n",
    "plt.yticks(fontsize = 10)\n",
    "plt.xlabel('Time')\n",
    "plt.ylabel('Total Upvotes')\n",
    "df_range = getDFRange(start_date, end_date)\n",
    "plt.plot_date(df_range['date'], df_range['sum_score'])\n",
    "plt.show()"
   ]
  },
  {
   "cell_type": "markdown",
   "metadata": {},
   "source": [
    "## But closer observation renders the data discontinuous. \n",
    "... one educated guess is that Reddit derped upon the huge input of jokes, so only update /r/Jokes page(subreddit) every n minutes. "
   ]
  },
  {
   "cell_type": "code",
   "execution_count": 64,
   "metadata": {},
   "outputs": [
    {
     "data": {
      "image/png": "[encoded data removed]",
      "text/plain": [
       "<matplotlib.figure.Figure at 0x7fb755256e80>"
      ]
     },
     "metadata": {},
     "output_type": "display_data"
    }
   ],
   "source": [
    "start_date = date(2016, 11, 7)\n",
    "end_date = date(2016, 11,14)\n",
    "plt.clf()\n",
    "plt.xticks(fontsize = 10)\n",
    "plt.yticks(fontsize = 10)\n",
    "plt.xlabel('Time')\n",
    "plt.ylabel('Total Upvotes')\n",
    "df_range = getDFRange(start_date, end_date)\n",
    "plt.plot_date(df_range['date'], df_range['sum_score'])\n",
    "plt.show()"
   ]
  },
  {
   "cell_type": "markdown",
   "metadata": {},
   "source": [
    "### this calls for a more sophisticated way to look at the data. "
   ]
  },
  {
   "cell_type": "markdown",
   "metadata": {},
   "source": [
    "# Experiment 2: binning the data per hour"
   ]
  },
  {
   "cell_type": "markdown",
   "metadata": {},
   "source": [
    "### getting the trump related joke upvotes per hour and per day"
   ]
  },
  {
   "cell_type": "code",
   "execution_count": 68,
   "metadata": {},
   "outputs": [],
   "source": [
    "from datetime import timedelta, date\n",
    "\n",
    "def hourrange(start_date, end_date):\n",
    "    for n in range(int ((end_date - start_date).days*24)):\n",
    "        start_of_day = (start_date + timedelta(n))\n",
    "        yield time.mktime(start_of_day.timetuple())\n",
    "\n",
    "start_date = date(2016, 1, 1)\n",
    "end_date = date(2018, 1, 1)\n",
    "hour_list = []\n",
    "\n",
    "for single_date in hourrange(start_date, end_date):\n",
    "    hour_list.append(single_date)\n",
    "\n",
    "trump_data_perhour = []\n",
    "for i in range(len(hour_list)-1):\n",
    "    starttime = hour_list[i]\n",
    "    endtime = hour_list[i+1]\n",
    "    day_df = df[(df['timestamp']>= starttime) & (df['timestamp'] <endtime)]\n",
    "    count = day_df[day_df['trump']>0]['score'].sum()\n",
    "    trump_data_perhour.append([starttime, count])\n"
   ]
  },
  {
   "cell_type": "markdown",
   "metadata": {},
   "source": [
    "Getting the data within the timeframe of intest"
   ]
  },
  {
   "cell_type": "code",
   "execution_count": 69,
   "metadata": {},
   "outputs": [],
   "source": [
    "def getDateRangeData(data, start_date, end_date):\n",
    "    start_timestamp = time.mktime(start_date.timetuple())\n",
    "    end_timestamp = time.mktime(end_date.timetuple())\n",
    "    \n",
    "    new_x = []\n",
    "    new_y = []\n",
    "    for d in data: \n",
    "        if (d[0] >= start_timestamp) & (d[0]<end_timestamp):\n",
    "            new_x.append(datetime.fromtimestamp(d[0]))\n",
    "            new_y = new_y + [d[1]]\n",
    "            #print(d)\n",
    "    return new_x, new_y"
   ]
  },
  {
   "cell_type": "code",
   "execution_count": 174,
   "metadata": {},
   "outputs": [],
   "source": [
    "start_date = date(2016, 10, 1)\n",
    "end_date = date(2017, 1, 1)\n",
    "\n",
    "newx, newy = getDateRangeData(trump_data_perhour, start_date, end_date)\n",
    "sumy = []\n",
    "curry = newy[0]\n",
    "for y in newy:\n",
    "    sumy.append(curry)\n",
    "    curry = curry + y"
   ]
  },
  {
   "cell_type": "code",
   "execution_count": 175,
   "metadata": {},
   "outputs": [
    {
     "data": {
      "image/png": "[encoded data removed]",
      "text/plain": [
       "<matplotlib.figure.Figure at 0x7fb763dcbf60>"
      ]
     },
     "metadata": {},
     "output_type": "display_data"
    }
   ],
   "source": [
    "plt.figure(figsize=(10,6))\n",
    "plt.plot_date(newx, sumy, 'b-', label='data')\n",
    "plt.legend()\n",
    "plt.xticks(fontsize = 10)\n",
    "plt.yticks(fontsize = 10)\n",
    "plt.xlabel('Time')\n",
    "plt.ylabel('Total Upvotes')\n",
    "plt.show()"
   ]
  },
  {
   "cell_type": "markdown",
   "metadata": {},
   "source": [
    "... Oh, my. What do we see here? \n",
    "## A growth Curve! (around election day).\n",
    "This is a very classical growth curve that's used to model many many things, from growth of bacteria to that of cancer. \n",
    "COOL! Now we can model the growth of Trump jokes as if it were cancer!"
   ]
  },
  {
   "cell_type": "markdown",
   "metadata": {},
   "source": [
    "# Experiment 3: Magify! Choose model! Fit Curve!"
   ]
  },
  {
   "cell_type": "code",
   "execution_count": 187,
   "metadata": {},
   "outputs": [
    {
     "data": {
      "image/png": "[encoded data removed]",
      "text/plain": [
       "<matplotlib.figure.Figure at 0x7fb763bd2390>"
      ]
     },
     "metadata": {},
     "output_type": "display_data"
    }
   ],
   "source": [
    "start_date = date(2016, 11, 8)\n",
    "end_date = date(2017, 1, 1)\n",
    "\n",
    "newx, newy = getDateRangeData(trump_data_perhour, start_date, end_date)\n",
    "sumy = []\n",
    "curry = newy[0]\n",
    "for y in newy:\n",
    "    sumy.append(curry)\n",
    "    curry = curry + y\n",
    "plt.plot_date(newx, sumy)\n",
    "plt.show()"
   ]
  },
  {
   "cell_type": "markdown",
   "metadata": {},
   "source": [
    "## Model: Generalized Logistic Function, with constant growth\n",
    "Hum, what else does this curve remind you of? \n",
    "Hint: deep learning? \n",
    "Answer: Sigmoid! \n",
    "Because it is but just a generalized function of sigmoid, a close cousin. \n"
   ]
  },
  {
   "cell_type": "code",
   "execution_count": 188,
   "metadata": {},
   "outputs": [],
   "source": [
    "# \"normalize\" the timestamp a bit, so it's easier to deal with. \n",
    "xdata = [timeToStamp(x)/1e9 for x in newx]\n",
    "ydata = sumy"
   ]
  },
  {
   "cell_type": "code",
   "execution_count": 189,
   "metadata": {},
   "outputs": [],
   "source": [
    "# Generalised logistic function\n",
    "def growth_func(x, a, k,c,q,b, v):\n",
    "    return a +(k/np.power((c + q*np.exp(b*x)), v))"
   ]
  },
  {
   "cell_type": "markdown",
   "metadata": {},
   "source": [
    "fit curve and find coefficients: \n",
    " p0=[  9.88700433e+05,  -1.62777400e+00,  -1.02823909e+00,\n",
    "         4.65014791e-01,   5.36906321e-01,   1.65061719e+00]"
   ]
  },
  {
   "cell_type": "code",
   "execution_count": 190,
   "metadata": {},
   "outputs": [
    {
     "name": "stdout",
     "output_type": "stream",
     "text": [
      "a, l, k, c, q, b, v:  [  3.45814289e+05  -3.16163262e-06  -1.02811219e+00   4.65071816e-01\n",
      "   5.36987655e-01   3.48386303e+00]\n"
     ]
    },
    {
     "name": "stderr",
     "output_type": "stream",
     "text": [
      "/usr/local/lib/python3.4/dist-packages/ipykernel_launcher.py:3: RuntimeWarning: invalid value encountered in power\n",
      "  This is separate from the ipykernel package so we can avoid doing imports until\n"
     ]
    }
   ],
   "source": [
    "popt, pcov = curve_fit(growth_func, xdata, ydata, \n",
    "                       p0=np.array([  9.88700433e+05,  -1.62777400e+00,  -1.02823909e+00, 4.65014791e-01,   5.36906321e-01,   1.65061719e+00]),\n",
    "                       maxfev=10000)\n",
    "print(\"a, l, k, c, q, b, v: \", popt) "
   ]
  },
  {
   "cell_type": "markdown",
   "metadata": {},
   "source": [
    "## ... if this is not a perfect fucking fit, I don' tknow what is\n",
    "\n",
    "...but I also did have 7 parameters, so over fitting is entirely possible. "
   ]
  },
  {
   "cell_type": "code",
   "execution_count": 191,
   "metadata": {},
   "outputs": [],
   "source": [
    "#map(lambda x: datetime.fromtimestamp(x*1e9), xdata)"
   ]
  },
  {
   "cell_type": "code",
   "execution_count": 192,
   "metadata": {},
   "outputs": [
    {
     "data": {
      "image/png": "[encoded data removed]",
      "text/plain": [
       "<matplotlib.figure.Figure at 0x7fb763beca20>"
      ]
     },
     "metadata": {},
     "output_type": "display_data"
    }
   ],
   "source": [
    "ys = [growth_func(*np.insert(popt, 0, d)) for d in xdata]\n",
    "plt.figure(figsize=(10,6))\n",
    "plt.plot_date(newx, ys, 'r-')\n",
    "#         label='fit: a=%5.3f, b=%5.3f, c=%5.3f, d=%5.3f, e=%5.3f, aa=%5.3f, bb=%5.3f' % tuple(popt))\n",
    "plt.plot_date(newx, ydata, 'b-', label='data')\n",
    "plt.legend()\n",
    "plt.xticks(fontsize = 10)\n",
    "plt.yticks(fontsize = 10)\n",
    "plt.xlabel('Time')\n",
    "plt.ylabel('Total Upvotes')\n",
    "plt.show()"
   ]
  },
  {
   "cell_type": "markdown",
   "metadata": {},
   "source": [
    "## intepretation of parameters: "
   ]
  },
  {
   "cell_type": "markdown",
   "metadata": {},
   "source": [
    "### Growth Rate = 0.54"
   ]
  },
  {
   "cell_type": "markdown",
   "metadata": {},
   "source": [
    "# Experiment 4: how does it fit across a larger time frame? "
   ]
  },
  {
   "cell_type": "code",
   "execution_count": 202,
   "metadata": {},
   "outputs": [],
   "source": [
    "start_date = date(2016, 11, 8)\n",
    "end_date = date(2017, 5, 8)\n",
    "\n",
    "extended_newx, extended_newy = getDateRangeData(trump_data_perhour, start_date, end_date)\n",
    "extended_sumy = []\n",
    "curry = extended_newy[0]\n",
    "for y in extended_newy:\n",
    "    extended_sumy.append(curry)\n",
    "    curry = curry + y\n",
    "\n",
    "extended_xdata = [timeToStamp(x)/1e9 for x in extended_newx]\n",
    "extended_ydata = extended_sumy"
   ]
  },
  {
   "cell_type": "code",
   "execution_count": 203,
   "metadata": {},
   "outputs": [],
   "source": [
    "extended_ys = [growth_func(*np.insert(popt, 0, d)) for d in extended_xdata]"
   ]
  },
  {
   "cell_type": "code",
   "execution_count": 204,
   "metadata": {},
   "outputs": [
    {
     "data": {
      "image/png": "[encoded data removed]",
      "text/plain": [
       "<matplotlib.figure.Figure at 0x7fb7639c3668>"
      ]
     },
     "metadata": {},
     "output_type": "display_data"
    }
   ],
   "source": [
    "plt.figure(figsize=(10,6))\n",
    "plt.plot_date(extended_newx, extended_ys, 'r-')\n",
    "#         label='fit: a=%5.3f, b=%5.3f, c=%5.3f, d=%5.3f, e=%5.3f, aa=%5.3f, bb=%5.3f' % tuple(popt))\n",
    "plt.plot_date(extended_newx, extended_ydata, 'b-', label='data')\n",
    "plt.legend()\n",
    "plt.xticks(fontsize = 10)\n",
    "plt.yticks(fontsize = 10)\n",
    "plt.xlabel('Time')\n",
    "plt.ylabel('Total Upvotes')\n",
    "plt.show()"
   ]
  },
  {
   "cell_type": "markdown",
   "metadata": {},
   "source": [
    "# You see that point where the curve stopped fitting? \n",
    "# Yep, that's the travel ban. "
   ]
  },
  {
   "cell_type": "code",
   "execution_count": null,
   "metadata": {},
   "outputs": [],
   "source": []
  }
 ],
 "metadata": {
  "kernelspec": {
   "display_name": "Python 3",
   "language": "python",
   "name": "python3"
  },
  "language_info": {
   "codemirror_mode": {
    "name": "ipython",
    "version": 3
   },
   "file_extension": ".py",
   "mimetype": "text/x-python",
   "name": "python",
   "nbconvert_exporter": "python",
   "pygments_lexer": "ipython3",
   "version": "3.4.3"
  }
 },
 "nbformat": 4,
 "nbformat_minor": 2
}
